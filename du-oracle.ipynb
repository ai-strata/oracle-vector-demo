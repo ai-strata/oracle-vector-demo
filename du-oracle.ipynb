{
 "cells": [
  {
   "metadata": {},
   "cell_type": "markdown",
   "source": "This notebook contains the code to upload documents to an Oracle DB and query the DB to retrieve the top-k closest vectors to a given query vector.",
   "id": "1f94c171a91fffdf"
  },
  {
   "metadata": {},
   "cell_type": "code",
   "outputs": [],
   "execution_count": null,
   "source": [
    "!pip install openai\n",
    "!pip install sentence-transformers\n",
    "!pip install oracledb\n",
    "!pip install numpy\n",
    "!pip install llama-index==0.9.39\n",
    "!pip install oracledb\n",
    "!pip install pypdf\n"
   ],
   "id": "da5c91317e8041ff"
  },
  {
   "metadata": {},
   "cell_type": "markdown",
   "source": "Import the required libraries",
   "id": "997bb37625d387cb"
  },
  {
   "cell_type": "code",
   "id": "initial_id",
   "metadata": {
    "ExecuteTime": {
     "end_time": "2024-06-17T14:28:16.495200Z",
     "start_time": "2024-06-17T14:28:16.490344Z"
    }
   },
   "source": [
    "import array\n",
    "import os\n",
    "import time\n",
    "\n",
    "import openai\n",
    "\n",
    "from llama_index.readers import SimpleDirectoryReader\n",
    "\n",
    "from typing import List\n",
    "from openai import OpenAI\n",
    "from sentence_transformers import SentenceTransformer\n",
    "import re\n",
    "import numpy as np\n",
    "from llama_index.schema import TextNode, BaseNode\n",
    "import json\n",
    "from llama_index.vector_stores.types import (\n",
    "    VectorStore,\n",
    "    VectorStoreQuery,\n",
    "    VectorStoreQueryResult,\n",
    ")\n",
    "\n",
    "# to generate id from text\n",
    "import hashlib\n",
    "\n",
    "from llama_index.schema import TextNode, BaseNode\n",
    "\n",
    "import oracledb\n",
    "import logging\n"
   ],
   "outputs": [],
   "execution_count": 6
  },
  {
   "metadata": {},
   "cell_type": "markdown",
   "source": "Define the configuration parameters and create a connection pool to the Oracle DB.",
   "id": "257d65e6c00e2077"
  },
  {
   "cell_type": "code",
   "id": "d0c9e985aba31324",
   "metadata": {
    "ExecuteTime": {
     "end_time": "2024-06-17T14:28:28.110301Z",
     "start_time": "2024-06-17T14:28:28.106859Z"
    }
   },
   "source": [
    "# The username for your local Oracle DB\n",
    "DB_USER = \"hr\"\n",
    "\n",
    "# The password for your local Oracle DB\n",
    "DB_PWD = \"oracle\"\n",
    "\n",
    "# The IP address of your local Oracle DB. For a local DB, this is often \"localhost\"\n",
    "DB_HOST_IP = \"127.0.0.1\"\n",
    "\n",
    "# The service name of your local Oracle DB\n",
    "DB_SERVICE = \"freepdb1\"\n",
    "\n",
    "DSN = f\"{DB_HOST_IP}/{DB_SERVICE}\"\n",
    "\n",
    "EMBED_MODEL = \"sentence-transformers/all-MiniLM-L6-v2\"\n",
    "MAX_CHUNK_SIZE = 400\n",
    "CHUNK_OVERLAP = 50\n",
    "# for retrieval\n",
    "TOP_K = 2\n",
    "# must be aligned with the create_tables.sql used\n",
    "EMBEDDINGS_BITS = 64\n",
    "\n",
    "API_KEY = \"sk-\"\n",
    "#pool = oracledb.create_pool(user=DB_USER, password=DB_PWD, dsn=DSN, min=1, max=10, increment=1)"
   ],
   "outputs": [],
   "execution_count": 7
  },
  {
   "cell_type": "markdown",
   "id": "a98e990d3c7da5c",
   "metadata": {},
   "source": "This section contains the code to upload documents to the Oracle DB. The documents are split into chunks, and the embeddings for each chunk are generated using a pre-trained Sentence Transformer model. The embeddings are then saved to the DB. The code also contains a function to retrieve the top-k closest vectors to a given query vector."
  },
  {
   "cell_type": "code",
   "id": "74f45c6a66fe6c27",
   "metadata": {
    "ExecuteTime": {
     "end_time": "2024-06-17T14:28:30.275865Z",
     "start_time": "2024-06-17T14:28:30.266116Z"
    }
   },
   "source": [
    "def upload_documents(user_id, files):\n",
    "    print(\"Starting document upload process for user:\", user_id)\n",
    "    # Process each file\n",
    "    for file in files:\n",
    "        document_name = os.path.basename(file)\n",
    "        print(\"Processing file:\", document_name)\n",
    "        pages_text, _ = read_and_split_in_pages([file])\n",
    "        model = SentenceTransformer(EMBED_MODEL)\n",
    "        embeddings = model.encode(pages_text, convert_to_tensor=False, show_progress_bar=True)\n",
    "        save_embeddings(user_id, document_name, pages_text, embeddings)\n",
    "    return \"Documents uploaded successfully!\"\n",
    "\n",
    "\n",
    "def save_embeddings(user_id, document_name, pages_text, embeddings):\n",
    "    print(\"Saving embeddings for document:\", document_name)\n",
    "    try:\n",
    "        connection = oracledb.connect(user=DB_USER, password=DB_PWD, dsn=DSN)\n",
    "        cursor = connection.cursor()\n",
    "\n",
    "        # Generate document ID and insert into BOOKS table\n",
    "        document_id = int(hashlib.sha256(document_name.encode()).hexdigest(), 16) % (\n",
    "                10 ** 8)  # Generate a unique integer ID\n",
    "        insert_document_sql = \"INSERT INTO BOOKS (ID, NAME, USERID) VALUES (:1, :2, :3)\"\n",
    "        print(\"Executing SQL:\", insert_document_sql, \"with params:\", (document_id, document_name, user_id))\n",
    "        cursor.execute(insert_document_sql, (document_id, document_name, user_id))\n",
    "\n",
    "        for page_num, (chunk_text, embedding) in enumerate(zip(pages_text, embeddings), start=1):\n",
    "            # Generate chunk ID\n",
    "            chunk_id = hashlib.sha256(f\"{document_id}-{page_num}\".encode()).hexdigest()\n",
    "\n",
    "            # Insert chunk into CHUNKS table\n",
    "            insert_chunk_sql = \"INSERT INTO CHUNKS (ID, CHUNK, PAGE_NUM, BOOK_ID) VALUES (:1, :2, :3, :4)\"\n",
    "            #print(\"Executing SQL:\", insert_chunk_sql, \"with params:\", (chunk_id, chunk_text, str(page_num), document_id))\n",
    "            cursor.execute(insert_chunk_sql, (chunk_id, chunk_text, str(page_num), document_id))\n",
    "\n",
    "            # Convert embedding to JSON string\n",
    "            embedding = np.array(embedding, dtype=np.float64)\n",
    "            embedding_json = json.dumps(embedding.tolist())\n",
    "\n",
    "            # Insert embedding into VECTORS table\n",
    "            insert_vector_sql = \"INSERT INTO VECTORS (ID, VEC) VALUES (:1, :2)\"\n",
    "            #print(\"Executing SQL:\", insert_vector_sql, \"with params:\", (chunk_id, embedding_json))\n",
    "            cursor.execute(insert_vector_sql, (chunk_id, embedding_json))\n",
    "\n",
    "        connection.commit()\n",
    "        cursor.close()\n",
    "        connection.close()\n",
    "    except oracledb.DatabaseError as e:\n",
    "        print(f\"Error occurred: {e}\")\n",
    "\n",
    "\n",
    "def read_and_split_in_pages(input_files):\n",
    "    print(\"Reading and splitting pages for input files\")\n",
    "    pages = SimpleDirectoryReader(input_files=input_files).load_data()\n",
    "    for doc in pages:\n",
    "        doc.text = preprocess_text(doc.text)\n",
    "    pages = remove_short_pages(pages, threshold=10)\n",
    "    pages_text = [doc.text for doc in pages]\n",
    "    pages_num = [doc.metadata[\"page_label\"] for doc in pages]\n",
    "    return pages_text, pages_num\n",
    "\n",
    "\n",
    "def preprocess_text(text):\n",
    "    text = re.sub(r'\\s+', ' ', text)\n",
    "    text = re.sub(r'\\n+', '\\n', text)\n",
    "    return text.strip()\n",
    "\n",
    "\n",
    "def remove_short_pages(pages, threshold):\n",
    "    return [doc for doc in pages if len(doc.text.split()) > threshold]"
   ],
   "outputs": [],
   "execution_count": 8
  },
  {
   "metadata": {
    "ExecuteTime": {
     "end_time": "2024-06-17T14:28:31.045689Z",
     "start_time": "2024-06-17T14:28:31.040197Z"
    }
   },
   "cell_type": "code",
   "source": [
    "def clear_db_sessions():\n",
    "    try:\n",
    "        connection = oracledb.connect(user=\"system\", password=\"oracle\", dsn=\"localhost:1521/freepdb1\")\n",
    "        cursor = connection.cursor()\n",
    "\n",
    "        # Get all active sessions\n",
    "        cursor.execute(\"SELECT sid, serial# FROM v$session WHERE username = 'HR' OR username IS NULL\")\n",
    "        sessions = cursor.fetchall()\n",
    "        print(f\"Sessions to kill: {sessions}\")\n",
    "\n",
    "        # Kill each session\n",
    "        for sid, serial in sessions:\n",
    "            cursor.execute(f\"ALTER SYSTEM KILL SESSION '{sid},{serial}'\")\n",
    "\n",
    "        connection.commit()\n",
    "    except oracledb.DatabaseError as e:\n",
    "        print(f\"Error occurred: {e}\")\n",
    "    finally:\n",
    "        if cursor:\n",
    "            cursor.close()\n",
    "        if connection:\n",
    "            connection.close()"
   ],
   "id": "fe6b566b0b36cda7",
   "outputs": [],
   "execution_count": 9
  },
  {
   "cell_type": "markdown",
   "id": "c77e3ca48dcdb480",
   "metadata": {},
   "source": "Test the document upload process. Upload documents for a business user and a technical user."
  },
  {
   "cell_type": "code",
   "id": "b2f4087066879af4",
   "metadata": {
    "editable": true,
    "scrolled": true,
    "slideshow": {
     "slide_type": ""
    },
    "tags": [],
    "ExecuteTime": {
     "end_time": "2024-06-17T14:29:00.684826Z",
     "start_time": "2024-06-17T14:28:32.459474Z"
    }
   },
   "source": [
    "clear_db_sessions()\n",
    "\n",
    "business_user_id = \"business_user\"\n",
    "business_user_files = [\n",
    "    \"c:\\\\tmp\\\\digital-transformation.pdf\",\n",
    "    \"c:\\\\tmp\\\\change-management.pdf\"\n",
    "]\n",
    "\n",
    "technical_user_id = \"technical_user\"\n",
    "technical_user_files = [\n",
    "    \"c:\\\\tmp\\\\blockchain_paper.pdf\",\n",
    "    \"c:\\\\tmp\\\\microservices.pdf\"\n",
    "]\n",
    "\n",
    "upload_documents(business_user_id, business_user_files)\n",
    "upload_documents(technical_user_id, technical_user_files)\n"
   ],
   "outputs": [
    {
     "name": "stdout",
     "output_type": "stream",
     "text": [
      "Sessions to kill: [(1, 25683), (2, 14420), (3, 52488), (4, 22216), (5, 54178), (6, 26479), (7, 62053), (8, 54796), (9, 32726), (10, 14867), (11, 49275), (12, 16749), (13, 12606), (14, 52317), (15, 26191), (16, 13981), (17, 8126), (19, 34884), (20, 24461), (21, 26842), (22, 1658), (23, 34679), (24, 32449), (25, 51624), (26, 63799), (27, 17757), (34, 22070), (37, 3305), (40, 53673), (41, 33139), (47, 24670), (163, 5398), (164, 25875), (165, 61154), (166, 46013), (167, 18140), (169, 61026), (170, 46948), (171, 51534), (172, 32921), (173, 49050), (174, 43650), (175, 29586), (177, 32542), (179, 38961), (180, 3471), (181, 8481), (182, 13850), (183, 18720), (184, 2675), (185, 58967), (186, 50056), (187, 37596), (188, 11425), (190, 24539), (193, 43890), (194, 51613), (195, 44199), (196, 50318), (204, 64415), (207, 22735), (210, 29241)]\n",
      "Error occurred: ORA-00026: missing or invalid session ID\n",
      "Help: https://docs.oracle.com/error-help/db/ora-00026/\n",
      "Starting document upload process for user: business_user\n",
      "Processing file: digital-transformation.pdf\n",
      "Reading and splitting pages for input files\n"
     ]
    },
    {
     "data": {
      "text/plain": [
       "Batches:   0%|          | 0/9 [00:00<?, ?it/s]"
      ],
      "application/vnd.jupyter.widget-view+json": {
       "version_major": 2,
       "version_minor": 0,
       "model_id": "7ea18ae1698f4caab7a7842a07afdd72"
      }
     },
     "metadata": {},
     "output_type": "display_data"
    },
    {
     "name": "stdout",
     "output_type": "stream",
     "text": [
      "Saving embeddings for document: digital-transformation.pdf\n",
      "Executing SQL: INSERT INTO BOOKS (ID, NAME, USERID) VALUES (:1, :2, :3) with params: (38837196, 'digital-transformation.pdf', 'business_user')\n",
      "Processing file: change-management.pdf\n",
      "Reading and splitting pages for input files\n"
     ]
    },
    {
     "data": {
      "text/plain": [
       "Batches:   0%|          | 0/1 [00:00<?, ?it/s]"
      ],
      "application/vnd.jupyter.widget-view+json": {
       "version_major": 2,
       "version_minor": 0,
       "model_id": "ea67489592b24f1fab5982bc9a4b9bd2"
      }
     },
     "metadata": {},
     "output_type": "display_data"
    },
    {
     "name": "stdout",
     "output_type": "stream",
     "text": [
      "Saving embeddings for document: change-management.pdf\n",
      "Executing SQL: INSERT INTO BOOKS (ID, NAME, USERID) VALUES (:1, :2, :3) with params: (18008419, 'change-management.pdf', 'business_user')\n",
      "Starting document upload process for user: technical_user\n",
      "Processing file: blockchain_paper.pdf\n",
      "Reading and splitting pages for input files\n"
     ]
    },
    {
     "data": {
      "text/plain": [
       "Batches:   0%|          | 0/1 [00:00<?, ?it/s]"
      ],
      "application/vnd.jupyter.widget-view+json": {
       "version_major": 2,
       "version_minor": 0,
       "model_id": "cc9ab3cbbef34d5f8cb75419774e7ae8"
      }
     },
     "metadata": {},
     "output_type": "display_data"
    },
    {
     "name": "stdout",
     "output_type": "stream",
     "text": [
      "Saving embeddings for document: blockchain_paper.pdf\n",
      "Executing SQL: INSERT INTO BOOKS (ID, NAME, USERID) VALUES (:1, :2, :3) with params: (61788562, 'blockchain_paper.pdf', 'technical_user')\n",
      "Processing file: microservices.pdf\n",
      "Reading and splitting pages for input files\n"
     ]
    },
    {
     "data": {
      "text/plain": [
       "Batches:   0%|          | 0/2 [00:00<?, ?it/s]"
      ],
      "application/vnd.jupyter.widget-view+json": {
       "version_major": 2,
       "version_minor": 0,
       "model_id": "b1930eca57e04404b38bea789367e8f8"
      }
     },
     "metadata": {},
     "output_type": "display_data"
    },
    {
     "name": "stdout",
     "output_type": "stream",
     "text": [
      "Saving embeddings for document: microservices.pdf\n",
      "Executing SQL: INSERT INTO BOOKS (ID, NAME, USERID) VALUES (:1, :2, :3) with params: (21024628, 'microservices.pdf', 'technical_user')\n"
     ]
    },
    {
     "data": {
      "text/plain": [
       "'Documents uploaded successfully!'"
      ]
     },
     "execution_count": 10,
     "metadata": {},
     "output_type": "execute_result"
    }
   ],
   "execution_count": 10
  },
  {
   "metadata": {},
   "cell_type": "markdown",
   "source": "Define the function to query the Oracle DB to retrieve the top-k closest vectors to a given query vector. The function uses the cosine distance to compute the similarity between vectors.",
   "id": "ed30f55412c02368"
  },
  {
   "metadata": {
    "ExecuteTime": {
     "end_time": "2024-06-17T14:29:09.589004Z",
     "start_time": "2024-06-17T14:29:09.583254Z"
    }
   },
   "cell_type": "code",
   "source": [
    "def oracle_query_cosine(embed_query: List[float], user_id, top_k: int = 2, verbose=False):\n",
    "    \"\"\"\n",
    "    Executes a query against an Oracle database to find the top_k closest vectors to the given embedding.\n",
    "\n",
    "    Args:\n",
    "        embed_query (List[float]): A list of floats representing the query vector embedding.\n",
    "        top_k (int, optional): The number of closest vectors to retrieve. Defaults to 2.\n",
    "        verbose (bool, optional): If set to True, additional information about the query and execution time will be printed. Defaults to False.\n",
    "\n",
    "    Returns:\n",
    "        VectorStoreQueryResult: Object containing the query results, including nodes, similarities, and ids.\n",
    "        :param verbose:\n",
    "        :param top_k:\n",
    "        :param embed_query:\n",
    "        :param user_id:\n",
    "    \"\"\"\n",
    "    start_time = time.time()\n",
    "\n",
    "    try:\n",
    "\n",
    "        connection = oracledb.connect(user=DB_USER, password=DB_PWD, dsn=DSN)\n",
    "        cursor = connection.cursor()\n",
    "        # 'f' single precision 'd' double precision\n",
    "        #array_type = \"d\" if EMBEDDINGS_BITS == 64 else \"f\"\n",
    "        array_query = array.array('f', embed_query)\n",
    "\n",
    "        select = f\"\"\"select V.id, C.CHUNK, C.PAGE_NUM, \n",
    "                    cosine_distance(V.VEC, :1) as d,\n",
    "                    B.NAME \n",
    "                    from VECTORS V, CHUNKS C, BOOKS B\n",
    "                    where C.ID = V.ID and\n",
    "                    C.BOOK_ID = B.ID and\n",
    "                    B.USERID = '{user_id}'\n",
    "                    order by d\n",
    "                    FETCH FIRST {top_k} ROWS ONLY\"\"\"\n",
    "\n",
    "        if verbose:\n",
    "            logging.info(f\"SQL Query 2: {select}\")\n",
    "\n",
    "        print(f\"Array query 2: {array_query}\")\n",
    "        cursor.execute(select, [array_query])\n",
    "        rows = cursor.fetchall()\n",
    "        print(f\"Rows: {rows}\")\n",
    "\n",
    "        result_nodes, node_ids, similarities = [], [], []\n",
    "        print(f\"Result nodes: {result_nodes}\")\n",
    "\n",
    "        # prepare output\n",
    "        for row in rows:\n",
    "            # row[1] is a clob\n",
    "            full_clob_data = row[1].read()\n",
    "            result_nodes.append(\n",
    "                TextNode(\n",
    "                    id_=row[0],\n",
    "                    text=full_clob_data,\n",
    "                    metadata={\"file_name\": row[4], \"page_label\": row[2]},\n",
    "                )\n",
    "            )\n",
    "            node_ids.append(row[0])\n",
    "            similarities.append(row[3])\n",
    "\n",
    "        q_result = VectorStoreQueryResult(\n",
    "            nodes=result_nodes, similarities=similarities, ids=node_ids\n",
    "        )\n",
    "\n",
    "        elapsed_time = time.time() - start_time\n",
    "\n",
    "        if verbose:\n",
    "            logging.info(f\"Query duration: {round(elapsed_time, 1)} sec.\")\n",
    "\n",
    "        return q_result\n",
    "        \n",
    "    except Exception as e:\n",
    "        logging.error(f\"Error occurred in oracle_query 2: {e}\")\n",
    "        return None\n",
    "\n"
   ],
   "id": "2e96fa61dacaa716",
   "outputs": [],
   "execution_count": 11
  },
  {
   "metadata": {},
   "cell_type": "markdown",
   "source": "Test the query function by querying the Oracle DB for the top-k closest vectors to a given query vector. The query vector is generated using a pre-trained Sentence Transformer model. The function retrieves the closest vectors for a business user and a technical user. The retrieved vectors are then used to generate an answer to a question using a pre-trained GPT-4 model. The answer is appended to the chat history. The chat history is then displayed.",
   "id": "51d6bf1c704e8a03"
  },
  {
   "cell_type": "code",
   "id": "12b2a4d4e20b26ae",
   "metadata": {
    "ExecuteTime": {
     "end_time": "2024-06-17T14:38:35.727058Z",
     "start_time": "2024-06-17T14:38:35.719554Z"
    }
   },
   "source": [
    "# Global variable to store chat history\n",
    "global chat_history\n",
    "chat_history = []\n",
    "\n",
    "\n",
    "def generate_answer(question, context):\n",
    "    # Append the new question to the chat history\n",
    "    #global chat_history\n",
    "    chat_history.append({\"role\": \"user\", \"content\": question})\n",
    "\n",
    "    openai.api_key = API_KEY\n",
    "    client = OpenAI(\n",
    "        api_key=openai.api_key,\n",
    "    )\n",
    "    stream = client.chat.completions.create(\n",
    "        model=\"gpt-4o\",\n",
    "        messages=[{\"role\": \"system\", \"content\": \"You are a helpful assistant.\"},\n",
    "                  {\"role\": \"user\",\n",
    "                   \"content\": f\"Answer the following question based on the provided text and describe the metadata that it came from, if the answer can't be concluded from the text just say that the provided text is insufficient to provide an answer, don't respond from your own knowledge. The text is:.\\n\\nContext: {context}\\n\\nQuestion: {question}\"}],\n",
    "        stream=True,\n",
    "    )\n",
    "    print(\n",
    "        f\"Answer the following question based on the provided text and describe the metadata that it came from, if the text doesn't contain the answer just say that the provided text is insufficient to provide an answer, don't respond from your own knowledge. The text is:.\\n\\nContext: {context}\\n\\nQuestion: {question}\")\n",
    "    collected_chunks = []\n",
    "    for chunk in stream:\n",
    "        if chunk.choices[0].delta.content is not None:\n",
    "            collected_chunks.append(chunk.choices[0].delta.content)\n",
    "\n",
    "    llm_answer = ''.join(collected_chunks).strip()\n",
    "    print(\"LLM Answer:\", llm_answer)\n",
    "\n",
    "    # Append the generated answer to the chat history\n",
    "    chat_history.append({\"role\": \"assistant\", \"content\": llm_answer})\n",
    "\n",
    "    return llm_answer\n",
    "\n",
    "\n",
    "def chat(user_id, question):\n",
    "    global chat_history  # Declare chat_history as a global variable\n",
    "\n",
    "    context = test_oracle_query(user_id, question)\n",
    "    print(\"Retrieved context:\", context)\n",
    "    answer = generate_answer(question, context)\n",
    "    print(\"Generated answer:\", answer)\n",
    "\n",
    "    # Convert the chat history to a string format suitable for display\n",
    "    chat_history_str = \"\\n\".join([f\"{msg['role']}: {msg['content']}\" for msg in chat_history])\n",
    "    #print(\"Chat history:\", chat_history_str)\n",
    "\n",
    "    return chat_history_str\n",
    "\n",
    "\n",
    "def test_oracle_query(user_id, question):\n",
    "    top_k = 5\n",
    "    verbose = True\n",
    "    print(\"Retrieving documents for user:\", user_id)\n",
    "    print(\"Question:\", question)\n",
    "    model = SentenceTransformer(EMBED_MODEL)\n",
    "    test_question_emeddings = model.encode(question, convert_to_tensor=False, show_progress_bar=True)\n",
    "\n",
    "    testresults2 = oracle_query_cosine(test_question_emeddings.tolist(), user_id, top_k, verbose)\n",
    "    print(f\"Test results 2: {testresults2}\")\n",
    "\n",
    "    context = \"\"\n",
    "    for result in testresults2.nodes:\n",
    "        chunk_text = result.text\n",
    "        chunk_metadata = result.metadata\n",
    "        context += chunk_text + \" \" + str(chunk_metadata) + \" \"\n",
    "\n",
    "    return context.strip()"
   ],
   "outputs": [],
   "execution_count": 20
  },
  {
   "cell_type": "code",
   "id": "91509496d326ffcd",
   "metadata": {
    "ExecuteTime": {
     "end_time": "2024-06-17T14:38:48.354873Z",
     "start_time": "2024-06-17T14:38:36.727028Z"
    }
   },
   "source": [
    "chat_user_id = \"technical_user\"\n",
    "chat_question = \"what is the potential of using blockchain with BIM?\"\n",
    "\n",
    "print(chat(chat_user_id, chat_question))\n",
    "\n"
   ],
   "outputs": [
    {
     "name": "stdout",
     "output_type": "stream",
     "text": [
      "Retrieving documents for user: technical_user\n",
      "Question: what is the potential of using blockchain with BIM?\n"
     ]
    },
    {
     "data": {
      "text/plain": [
       "Batches:   0%|          | 0/1 [00:00<?, ?it/s]"
      ],
      "application/vnd.jupyter.widget-view+json": {
       "version_major": 2,
       "version_minor": 0,
       "model_id": "3f41ecd3edc0491ab523673c9cb00cfa"
      }
     },
     "metadata": {},
     "output_type": "display_data"
    },
    {
     "name": "stdout",
     "output_type": "stream",
     "text": [
      "Array query 2: array('f', [-0.015785766765475273, 0.0009981109760701656, -0.048373933881521225, -0.016667965799570084, -0.062468912452459335, -0.02723805420100689, -0.004929180257022381, 0.04940257593989372, 0.002238634740933776, -0.02024371363222599, -0.019948285073041916, 0.04359608516097069, 0.02103298343718052, -0.000399686919990927, 0.09506251662969589, 0.11448220163583755, 0.09343384951353073, 0.023033209145069122, 0.06215339154005051, 0.0269812922924757, -0.036601148545742035, -0.061342913657426834, -0.04309963807463646, 0.02289023995399475, -0.054171621799468994, -0.04470172896981239, 0.035397183150053024, 0.075709268450737, -0.05186079442501068, -0.05832734704017639, 0.02747039683163166, 0.12075915932655334, 0.05966165289282799, 0.0019234840292483568, -0.1816176325082779, 0.02609996870160103, 0.05955231934785843, -0.026852596551179886, -0.005764928180724382, -0.0633297711610794, 0.0054460326209664345, 0.010879441164433956, 0.03729305416345596, -0.1166454553604126, 0.0053397356532514095, -0.03946945443749428, 0.010280046612024307, -0.0182725228369236, -0.05967847257852554, 0.04408511891961098, -0.007126304320991039, -0.02272428199648857, 0.038193363696336746, 0.0294202733784914, 0.01320033147931099, -0.029134217649698257, -0.009114990942180157, -0.048526912927627563, -0.0024936655536293983, -0.0966983288526535, 0.002170490100979805, -0.0030944477766752243, 0.02425529807806015, 0.018205666914582253, 0.13613513112068176, -0.0617293156683445, -0.005355686880648136, 0.058890338987112045, 0.012451917864382267, -0.02715647593140602, 0.060573987662792206, -0.10274903476238251, -0.0676063522696495, -0.06966470927000046, -0.015460547059774399, -0.020538464188575745, 0.008791112340986729, -0.018781790509819984, -0.01654801517724991, -0.012368469499051571, -0.040841244161129, 0.028176356106996536, -0.013511460274457932, -0.06364605575799942, -0.00819892343133688, 0.01918441243469715, 0.042902227491140366, -0.020813383162021637, -0.08305659145116806, 0.008114568889141083, 0.04076012223958969, 0.05393819510936737, 0.10255622863769531, -0.0825294628739357, 0.004881237633526325, 0.0040163034573197365, -0.019666992127895355, -0.01903410255908966, 0.039334721863269806, -0.0030984212644398212, 0.054412562400102615, 0.09075786918401718, -0.01355018187314272, -0.05257915332913399, -0.01874936744570732, 0.05399956554174423, 0.10605960339307785, 0.059987109154462814, 0.09030693024396896, 0.037431955337524414, 0.028272468596696854, 0.005111353006213903, 0.021107211709022522, -0.05996798351407051, -0.04453938826918602, -0.0018821140984073281, -0.023111922666430473, -0.1020645871758461, 0.0074743544682860374, 0.11495216935873032, -0.020022504031658173, 0.05186350643634796, -0.019617445766925812, 0.005313192494213581, -0.05978929623961449, 0.08684376627206802, -0.02717064879834652, -3.137874170976615e-33, -0.0161588154733181, -0.026982784271240234, 0.006369616836309433, 0.022850634530186653, 0.08279541879892349, -0.008125312626361847, 0.009765873663127422, -0.04085230082273483, -0.04004136472940445, -0.11305095255374908, 0.001728291274048388, 0.031174741685390472, 0.11614041775465012, 0.05153900757431984, 0.05287904292345047, -0.0542231947183609, -0.04786011204123497, -0.01015233900398016, 0.10680567473173141, 0.06119370460510254, 0.00010684205335564911, -0.040322404354810715, 0.02188681997358799, -0.002319655381143093, 0.06850231438875198, 0.013173647224903107, 0.06161858141422272, 0.05761628970503807, 0.02796611748635769, -0.024703877046704292, 0.020799852907657623, 0.037865329533815384, -0.07000143826007843, 0.000248929689405486, 0.037307124584913254, 0.07836596667766571, -0.029448382556438446, 0.0067953867837786674, -0.011271114461123943, -0.06751455366611481, -0.023382587358355522, -0.006164540536701679, 0.02987048029899597, 0.028790201991796494, 0.0003243969695176929, 0.017551427707076073, 0.06753232330083847, 0.02695542946457863, -0.08363465964794159, 0.010350684635341167, 0.01989022269845009, 0.030035823583602905, -0.12310634553432465, 0.024368295446038246, 0.06416170299053192, 0.028533801436424255, -0.011861826293170452, -0.09126776456832886, -0.013635409064590931, 0.0738351047039032, 0.0070999786257743835, 0.0739489495754242, -0.03162593021988869, 0.08610571920871735, -0.018214454874396324, 0.059469230473041534, 0.06781084090471268, -0.07285697758197784, 0.05711383372545242, -0.04975012317299843, 0.0352744460105896, -0.0859677642583847, -0.04979608207941055, 0.018455365672707558, -0.003109587589278817, 0.014249291270971298, -0.028200235217809677, -0.05436559394001961, -2.408938053122256e-05, 0.04686516895890236, 0.035901688039302826, -0.03940502926707268, 0.06512308865785599, 0.0194096677005291, -0.0351986400783062, 0.02938154712319374, 0.014847276732325554, -0.04597435146570206, -0.030917972326278687, 0.03562309965491295, -0.03342992812395096, 0.016703404486179352, -0.016266614198684692, 0.04625188931822777, 0.019302062690258026, 9.394670237916727e-34, -0.026651570573449135, -0.031040554866194725, 0.042080216109752655, 0.037556394934654236, -0.028462478891015053, -0.008160775527358055, -0.0036609703674912453, 0.005638990085572004, -0.05170368403196335, 0.03230743110179901, -0.009435998275876045, 0.00038819346809759736, 0.025845279917120934, 0.01813988760113716, 0.005229292903095484, -0.026524357497692108, -0.007007943466305733, -0.0757376179099083, -0.010555987246334553, -0.03629034385085106, -0.04551556706428528, 0.073168084025383, -0.006018246524035931, 0.06356978416442871, -0.08483947068452835, 0.02720700576901436, -0.10933759808540344, -0.1331954449415207, 0.03619927167892456, 0.013194585219025612, 0.0373680554330349, -0.00031829613726586103, -0.08807837963104248, -0.0005190882366150618, -0.005834846757352352, 0.052049554884433746, -0.00591602036729455, 0.06793203204870224, -0.001606475212611258, -0.13974405825138092, -0.050103843212127686, 0.018543347716331482, -0.05868380516767502, -0.08139943331480026, -0.041532400995492935, -0.002314181299880147, 0.0328863188624382, 0.07240238040685654, -0.03499924764037132, 0.0014725873479619622, 0.008332821540534496, 0.027220627292990685, 0.050957366824150085, -0.09646709263324738, -0.04205657169222832, -0.007193420082330704, -0.040165528655052185, 0.008665109984576702, -0.002552569843828678, -0.003057873575016856, 0.013974516652524471, 0.06413507461547852, 0.08745825290679932, -0.04014867916703224, 0.02775738388299942, 0.018052805215120316, -0.05340508371591568, 0.025310847908258438, -0.05048930644989014, -0.04675457999110222, 0.11224696040153503, 0.010401657782495022, 0.02100028097629547, 0.05097891762852669, -0.00023870346194598824, 0.021835889667272568, 0.045467812567949295, -0.026524314656853676, -0.052370429039001465, 0.04088420048356056, -0.051428887993097305, -0.004824223928153515, 0.023233985528349876, 0.019666729494929314, 0.008535631000995636, -0.06969670951366425, -0.037876568734645844, -0.11033425480127335, -0.018329644575715065, -0.10510414093732834, -0.034341491758823395, -0.039831578731536865, -0.05629061535000801, -0.025569625198841095, -0.04561622813344002, -1.9073462809160446e-08, -0.033990900963544846, -0.04775088280439377, 0.052808236330747604, -0.018857629969716072, -0.10973823070526123, -0.07868099957704544, 0.002282798755913973, -0.0007999902591109276, -0.00027176368166692555, 0.10439713299274445, 0.05041184276342392, 0.0054542673751711845, -0.16639767587184906, 0.07415782660245895, 0.030871357768774033, 0.06506562232971191, 0.08035887032747269, 0.04117603600025177, -0.025491168722510338, -0.010706448927521706, 0.010079153813421726, -0.003744490211829543, -0.051694680005311966, 0.013525313697755337, 0.046036504209041595, -0.012914150953292847, 0.04149486497044563, 0.0563315749168396, -0.010880597867071629, -0.01617463305592537, 0.01067246962338686, 0.019649939611554146, -0.008643796667456627, 0.10520971566438675, 0.022967804223299026, -0.061400994658470154, -0.064876489341259, 0.025072919204831123, -0.0051078228279948235, 0.02097075618803501, 0.010578164830803871, 0.0030337574426084757, 0.024798093363642693, 0.0022973830346018076, -0.06930157542228699, -0.13125933706760406, -0.04029449447989464, -0.01860598847270012, 0.001708455034531653, 0.021391527727246284, -0.005415893625468016, 0.025479888543486595, 0.10084714740514755, 0.033841755241155624, 0.06696347147226334, 0.03596749156713486, 0.06837775558233261, -0.0649896040558815, 0.02322496473789215, 0.04666348546743393, 0.10370073467493057, -0.08338151127099991, 0.039514217525720596, -0.013957110233604908])\n",
      "Rows: [('6f816e31dd61a226ae4e1facaaf64996d5eb9dbbef34dc2df2d394c32b7b00d7', <oracledb.LOB object at 0x00000131AB94D060>, '2', 0.37432605028152466, 'blockchain_paper.pdf'), ('1e992c2b5b22f70c94788ae139a4b201ef213835b40a1ebf893689eaf8314d5d', <oracledb.LOB object at 0x00000131AB94F880>, '5', 0.382685124874115, 'blockchain_paper.pdf'), ('353431fd2fb86085c056f1995ab07e55f185421b1a009065941e510ae67bdb00', <oracledb.LOB object at 0x00000131AB94DEA0>, '4', 0.40552884340286255, 'blockchain_paper.pdf'), ('d5a91ae4bed77cce347dfed05e3ae17a3f429e92f53e311d7c04cd0d14315d49', <oracledb.LOB object at 0x00000131AB94CEB0>, '6', 0.4061012864112854, 'blockchain_paper.pdf'), ('3595ffae7fbd48b31b393911afacb5eb06dd84ebb127c25936bcaf3bb77c8f84', <oracledb.LOB object at 0x00000131AB8F8100>, '1', 0.4118819832801819, 'blockchain_paper.pdf')]\n",
      "Result nodes: []\n",
      "Test results 2: VectorStoreQueryResult(nodes=[TextNode(id_='6f816e31dd61a226ae4e1facaaf64996d5eb9dbbef34dc2df2d394c32b7b00d7', embedding=None, metadata={'file_name': 'blockchain_paper.pdf', 'page_label': '2'}, excluded_embed_metadata_keys=[], excluded_llm_metadata_keys=[], relationships={}, text='The potential of adopting Blockchain Technology with BIM Implementations in the Construction Industry Ecosystem –A Review Paper Ahmed H Abdelghany ah2028@hw.ac.uk Abstract: Building Information Model (BIM) has been a mainstream concept within the Construction Industry for more than a decade. Countries are creating BIM Strategies to increase the performance of the industry as well as the governance, maturity and transparency. However, the industry has been known for its very dynamic ecosystem and a large number of dispute areas that make information validity very crucial as a key stone for any transformational initiative. Blockchain, on the other hand, has been famous since int roduced in 2008 with the promise of creating new norms within the Digital Economy, and unlocking the potential of other technologies and business models in many industries, however, it still in the very early stages of implementation and maturity in the industry. This paper reviews the potential of adopting Blockchain Technology with BIM concepts in the built environment. It defines the technology and review its key value proposition from BIM perspectives. Keywords: Building Information Model, Blockcha in, BIM Maturity , Smart Contracts , IFC , Collaboration, Trust 1. Introduction BIM has been of significant benefits on many aspects of the construction industry such as collective design intentions understanding, conflicts reduction, quality improvement, faster and predictable cost management (Yang and Chou, 2019) . Many countries created implementation strategies (Smith, 2014) and UK put a mandate for BIM Level 2 adoption on public projects (Eynon, 2016) believing that adopting BIM collaborative environments and technologies is essential in cost saving, adding to that the effort of the European Union moving towards BIM Level 3 (Eynon, 2016) which ent ails full collaborative process, and one of the pillars of their long term strategy is fostering digital ecosystem and infrastructure from regulation and physical perspectives, to support collaboration and trust. However, from process perspectives, BIM implementations faces obstacles, such as , preserving BIM model historical modifications log (Kerosuo et al. , 2015) , real time collaboration and integration for co -design, interoperability difficulties resulting from the lack of standard communication specifications for BIM models sharing , and exposure to data leakage or manipulation (Nawari and Ravindran, 2019a) , tracing liabilities and responsibilities , and preserving IP rights and privacy (Turk and Kl inc, 2017) . Moreover, the information output and timelines, permissions for model modifications, and how all of this can be governed contractually to support the BIM process was of question (Mcadam, 2010) . From legal perspectives, there is a lack of legal frameworks that detail mod el information and data ownership as well as contractual aspects (Ahn, Kwak and Suk, 2016) . Responsibilities and rights clarity, also the ownership of m odel information and the protection of IPR was the most issue mentioned by researchers (Fan et al. , 2018) . On the ICT side, there was the question back then whether project’s participant should use the same BIM environment or not (Mcadam, 2010) , if not, how reliable will be the interoperability between different BIM soft ware, and the reliability of each individual ones, and how the software limitation can be put in the supply agreement. Apparently, the same question remains as (Fan et al., 2018) identified BIM and procurement systems incompatibility among the issue s mentioned in research papers.', start_char_idx=None, end_char_idx=None, text_template='{metadata_str}\\n\\n{content}', metadata_template='{key}: {value}', metadata_seperator='\\n'), TextNode(id_='1e992c2b5b22f70c94788ae139a4b201ef213835b40a1ebf893689eaf8314d5d', embedding=None, metadata={'file_name': 'blockchain_paper.pdf', 'page_label': '5'}, excluded_embed_metadata_keys=[], excluded_llm_metadata_keys=[], relationships={}, text=\"1.5. Why Permissioned Blockchain Adding to the decision chart in Figure 1, a typical construction project of any size have known participants who basically have signed contracts (Nawari and Ravindran, 2019b) , in addition, Public Blockchains (Permission -less) lack the privacy as all participants have visibility to all transactions data, and also lack centralized management which places the control of the consensus to the Blockchain protocol and this is against the nature of the industry, unless the use case requires public consensus like Intellectual Property use cases. 2. BIM and Blockchain Blockchain from its definition has no update or delete in it, this natu re enabled other capabilities in the construction industry from transparency, traceability and collaboration (Balint Penzes, 2018) . This section highlight s on the Blockc hain potential with BIM from the angel of these three features along with the interoperability between BIM and Blockchain . 2.1. Interoperability On the model information level, using Industry Foundation Classes ( IFC) BIM and Blockchain can be mapped, (Xue and Lu, 2020) used IFC semantics to introduce an approach to minimize information redundan cy of BIM changes over time, mapping BIM onto Blockchain , as in Figure 3 . Figure 3:Integrating BIM and Blockchain using IFC semantic interoperability (Xue and Lu, 2020) From BIM process perspective, having the employer requirement as the center of attention is very essential, and this is why project's requirements and its information delivery milestones must be governed. In their research, (Raslan et al. , 2020) proposed a framework to use Blockchain smart contracts to match the Employer Information Requirements ( EIR) with what the suppliers and contractors needs to comply with, creating a Blockchain structure to store graphical models, non -graphical information and links to documentation, matching them all to the Asset Information Model (AIM).\", start_char_idx=None, end_char_idx=None, text_template='{metadata_str}\\n\\n{content}', metadata_template='{key}: {value}', metadata_seperator='\\n'), TextNode(id_='353431fd2fb86085c056f1995ab07e55f185421b1a009065941e510ae67bdb00', embedding=None, metadata={'file_name': 'blockchain_paper.pdf', 'page_label': '4'}, excluded_embed_metadata_keys=[], excluded_llm_metadata_keys=[], relationships={}, text='1.2.4. Peers Peers represents organizations (Yang et al. , 2020) their roles are to e xecut e a transaction proposal, validat e transaction s. Each Peer has a copy of the smart contracts and the immutable ledger (HyperledgerDocs, 2018) . 1.3. What is BIM Among all the definitions and references for BIM, and for the purpose of this paper, stating that “With BIM, you design with objects, not lines, arcs, and shapes ” (Autodesk, 2015) could be of the best interest , the word “objects” represents everything of any size or magnitude varying from a small window or door to even a complex Jet Engine. 1.4. Why Blockchain in C onstruction and Why with BIM Bridging the gap between Blockchain and Construction industry relies on certain principles , (Greenspan, 2015) suggested eight main principles to identify whether the usage of Blockchain for certain business case is viable or not , which are the need for centralized database, presence of m ultiple writers, no trust among writers , the need to eliminate 3rd parties , functionality control, rules setting , need for v alidators, and the presence of an a sset to be tracked . (Turk and Klinc, 2017) used these principles to draw a decision chart (Figure 2 ) to confirm that building projects have the typical needs for collaboration, types of transactions and also the need for responsibility and accountability management that make the use of Blockchain ideal for the industry. BIM aims at exchanging information digitally , creating a single source for data originally created and shared by stakeholders during the construction phases (Di Giuda et al. , 2020) . Transactions in building projects and the legal effects resulting from failures are typical cases to apply Blockchain as the stakeholders are already known, i t is not guaranteed that they completely trust each other, data writers’ interest are not unified, third parties are not preferred and the functionality control is required as it is defined by the stakeholders, all transaction must be within the transacting parties and finally, c onsensus is defined bet ween stakeholders (Turk and Klinc, 2017) . Figure 2, A decision t ree to determine the type of Blockchain to use. (Turk and Klinc, 2017)', start_char_idx=None, end_char_idx=None, text_template='{metadata_str}\\n\\n{content}', metadata_template='{key}: {value}', metadata_seperator='\\n'), TextNode(id_='d5a91ae4bed77cce347dfed05e3ae17a3f429e92f53e311d7c04cd0d14315d49', embedding=None, metadata={'file_name': 'blockchain_paper.pdf', 'page_label': '6'}, excluded_embed_metadata_keys=[], excluded_llm_metadata_keys=[], relationships={}, text=\"Figure 4: Optimizing Asset & Facilities Management team exp erience (Raslan et al. , 2020) There is an interesting correlation between Blockchain and AIM and BIM which gives a potential for each technology to fill each other’s gap (Raslan et al. , 2020) . BIM also can encapsulate Blockchain verified supply chain information, material tracking records or payment information (Balint Penzes, 2018) , it can also give back model changes information and approvals. Also making use of Blockchain smart contracts, payments can be initiated based on other Blockchain triggers like inspection completion for specific activities (Moreira, Mota and Machado, 2021) . 2.2. Transparency With its immutable record keeping capability, all records are written according to a predefined and agreed upon consensus mechanism between participants, (Nawari and Ravindran, 2019b) stated that DLT’s transparency along with BIM properties can present an 'proof of trust', which would make another incentive for th e AEC business. As an example for transparency, In their research, (Nawari and Ravindran, 2019b) introduced a Blockchain+BIM framework for compliance and code -check automation of the review and submission of construction permits . 2.3. Traceability ( Provenance ) There is a major data loss problem in the construction indu stry (Branner, 2017) as 95% of data is either thrown out or not even collected . Provenance is one of the capabilities of Blockchain as it is a byproduct of its immutability, responsibility and accountability can be spotted, and also future risk can be anticipated if we can know where the error ca me from or who caused it (Xue and Lu, 2020) . In their paper, (Xue and Lu, 2020) referred to what they called “ Recent construction scandals ”, like the false results of testing “ Hong Kong -Zhuhai -Macau bridge ” or the improper construction in “ Hung H om MTR Station ”, adding that Blockc hain could’ve been the safeguard of building information provenance for forensic investigation purposes . Although provenance or traceability indicate a backward notion, the forward look is also important as most construction activities don’t just stop at t he as -built state, they continue operation until decommission of the asset or coming to the end of its life cycle (Balint Penzes,\", start_char_idx=None, end_char_idx=None, text_template='{metadata_str}\\n\\n{content}', metadata_template='{key}: {value}', metadata_seperator='\\n'), TextNode(id_='3595ffae7fbd48b31b393911afacb5eb06dd84ebb127c25936bcaf3bb77c8f84', embedding=None, metadata={'file_name': 'blockchain_paper.pdf', 'page_label': '1'}, excluded_embed_metadata_keys=[], excluded_llm_metadata_keys=[], relationships={}, text='See discussions, st ats, and author pr ofiles f or this public ation at : https://www .researchgate.ne t/public ation/351153237 The potential of adopting Blockchain Technology with BIM Implementations in the Construction Industry Ecosystem -A Review Paper Preprint · April 2021 DOI: 10.13140/RG.2.2.33181.18407 CITATIONS 0READS 517 1 author: Ahmed Hany Heriot -Watt Univ ersity 1 PUBLICA TION 0 CITATIONS SEE PROFILE All c ontent f ollo wing this p age was uplo aded b y Ahmed Hany on 25 A ugust 2021. The user has r equest ed enhanc ement of the do wnlo aded file.', start_char_idx=None, end_char_idx=None, text_template='{metadata_str}\\n\\n{content}', metadata_template='{key}: {value}', metadata_seperator='\\n')], similarities=[0.37432605028152466, 0.382685124874115, 0.40552884340286255, 0.4061012864112854, 0.4118819832801819], ids=['6f816e31dd61a226ae4e1facaaf64996d5eb9dbbef34dc2df2d394c32b7b00d7', '1e992c2b5b22f70c94788ae139a4b201ef213835b40a1ebf893689eaf8314d5d', '353431fd2fb86085c056f1995ab07e55f185421b1a009065941e510ae67bdb00', 'd5a91ae4bed77cce347dfed05e3ae17a3f429e92f53e311d7c04cd0d14315d49', '3595ffae7fbd48b31b393911afacb5eb06dd84ebb127c25936bcaf3bb77c8f84'])\n",
      "Retrieved context: The potential of adopting Blockchain Technology with BIM Implementations in the Construction Industry Ecosystem –A Review Paper Ahmed H Abdelghany ah2028@hw.ac.uk Abstract: Building Information Model (BIM) has been a mainstream concept within the Construction Industry for more than a decade. Countries are creating BIM Strategies to increase the performance of the industry as well as the governance, maturity and transparency. However, the industry has been known for its very dynamic ecosystem and a large number of dispute areas that make information validity very crucial as a key stone for any transformational initiative. Blockchain, on the other hand, has been famous since int roduced in 2008 with the promise of creating new norms within the Digital Economy, and unlocking the potential of other technologies and business models in many industries, however, it still in the very early stages of implementation and maturity in the industry. This paper reviews the potential of adopting Blockchain Technology with BIM concepts in the built environment. It defines the technology and review its key value proposition from BIM perspectives. Keywords: Building Information Model, Blockcha in, BIM Maturity , Smart Contracts , IFC , Collaboration, Trust 1. Introduction BIM has been of significant benefits on many aspects of the construction industry such as collective design intentions understanding, conflicts reduction, quality improvement, faster and predictable cost management (Yang and Chou, 2019) . Many countries created implementation strategies (Smith, 2014) and UK put a mandate for BIM Level 2 adoption on public projects (Eynon, 2016) believing that adopting BIM collaborative environments and technologies is essential in cost saving, adding to that the effort of the European Union moving towards BIM Level 3 (Eynon, 2016) which ent ails full collaborative process, and one of the pillars of their long term strategy is fostering digital ecosystem and infrastructure from regulation and physical perspectives, to support collaboration and trust. However, from process perspectives, BIM implementations faces obstacles, such as , preserving BIM model historical modifications log (Kerosuo et al. , 2015) , real time collaboration and integration for co -design, interoperability difficulties resulting from the lack of standard communication specifications for BIM models sharing , and exposure to data leakage or manipulation (Nawari and Ravindran, 2019a) , tracing liabilities and responsibilities , and preserving IP rights and privacy (Turk and Kl inc, 2017) . Moreover, the information output and timelines, permissions for model modifications, and how all of this can be governed contractually to support the BIM process was of question (Mcadam, 2010) . From legal perspectives, there is a lack of legal frameworks that detail mod el information and data ownership as well as contractual aspects (Ahn, Kwak and Suk, 2016) . Responsibilities and rights clarity, also the ownership of m odel information and the protection of IPR was the most issue mentioned by researchers (Fan et al. , 2018) . On the ICT side, there was the question back then whether project’s participant should use the same BIM environment or not (Mcadam, 2010) , if not, how reliable will be the interoperability between different BIM soft ware, and the reliability of each individual ones, and how the software limitation can be put in the supply agreement. Apparently, the same question remains as (Fan et al., 2018) identified BIM and procurement systems incompatibility among the issue s mentioned in research papers. {'file_name': 'blockchain_paper.pdf', 'page_label': '2'} 1.5. Why Permissioned Blockchain Adding to the decision chart in Figure 1, a typical construction project of any size have known participants who basically have signed contracts (Nawari and Ravindran, 2019b) , in addition, Public Blockchains (Permission -less) lack the privacy as all participants have visibility to all transactions data, and also lack centralized management which places the control of the consensus to the Blockchain protocol and this is against the nature of the industry, unless the use case requires public consensus like Intellectual Property use cases. 2. BIM and Blockchain Blockchain from its definition has no update or delete in it, this natu re enabled other capabilities in the construction industry from transparency, traceability and collaboration (Balint Penzes, 2018) . This section highlight s on the Blockc hain potential with BIM from the angel of these three features along with the interoperability between BIM and Blockchain . 2.1. Interoperability On the model information level, using Industry Foundation Classes ( IFC) BIM and Blockchain can be mapped, (Xue and Lu, 2020) used IFC semantics to introduce an approach to minimize information redundan cy of BIM changes over time, mapping BIM onto Blockchain , as in Figure 3 . Figure 3:Integrating BIM and Blockchain using IFC semantic interoperability (Xue and Lu, 2020) From BIM process perspective, having the employer requirement as the center of attention is very essential, and this is why project's requirements and its information delivery milestones must be governed. In their research, (Raslan et al. , 2020) proposed a framework to use Blockchain smart contracts to match the Employer Information Requirements ( EIR) with what the suppliers and contractors needs to comply with, creating a Blockchain structure to store graphical models, non -graphical information and links to documentation, matching them all to the Asset Information Model (AIM). {'file_name': 'blockchain_paper.pdf', 'page_label': '5'} 1.2.4. Peers Peers represents organizations (Yang et al. , 2020) their roles are to e xecut e a transaction proposal, validat e transaction s. Each Peer has a copy of the smart contracts and the immutable ledger (HyperledgerDocs, 2018) . 1.3. What is BIM Among all the definitions and references for BIM, and for the purpose of this paper, stating that “With BIM, you design with objects, not lines, arcs, and shapes ” (Autodesk, 2015) could be of the best interest , the word “objects” represents everything of any size or magnitude varying from a small window or door to even a complex Jet Engine. 1.4. Why Blockchain in C onstruction and Why with BIM Bridging the gap between Blockchain and Construction industry relies on certain principles , (Greenspan, 2015) suggested eight main principles to identify whether the usage of Blockchain for certain business case is viable or not , which are the need for centralized database, presence of m ultiple writers, no trust among writers , the need to eliminate 3rd parties , functionality control, rules setting , need for v alidators, and the presence of an a sset to be tracked . (Turk and Klinc, 2017) used these principles to draw a decision chart (Figure 2 ) to confirm that building projects have the typical needs for collaboration, types of transactions and also the need for responsibility and accountability management that make the use of Blockchain ideal for the industry. BIM aims at exchanging information digitally , creating a single source for data originally created and shared by stakeholders during the construction phases (Di Giuda et al. , 2020) . Transactions in building projects and the legal effects resulting from failures are typical cases to apply Blockchain as the stakeholders are already known, i t is not guaranteed that they completely trust each other, data writers’ interest are not unified, third parties are not preferred and the functionality control is required as it is defined by the stakeholders, all transaction must be within the transacting parties and finally, c onsensus is defined bet ween stakeholders (Turk and Klinc, 2017) . Figure 2, A decision t ree to determine the type of Blockchain to use. (Turk and Klinc, 2017) {'file_name': 'blockchain_paper.pdf', 'page_label': '4'} Figure 4: Optimizing Asset & Facilities Management team exp erience (Raslan et al. , 2020) There is an interesting correlation between Blockchain and AIM and BIM which gives a potential for each technology to fill each other’s gap (Raslan et al. , 2020) . BIM also can encapsulate Blockchain verified supply chain information, material tracking records or payment information (Balint Penzes, 2018) , it can also give back model changes information and approvals. Also making use of Blockchain smart contracts, payments can be initiated based on other Blockchain triggers like inspection completion for specific activities (Moreira, Mota and Machado, 2021) . 2.2. Transparency With its immutable record keeping capability, all records are written according to a predefined and agreed upon consensus mechanism between participants, (Nawari and Ravindran, 2019b) stated that DLT’s transparency along with BIM properties can present an 'proof of trust', which would make another incentive for th e AEC business. As an example for transparency, In their research, (Nawari and Ravindran, 2019b) introduced a Blockchain+BIM framework for compliance and code -check automation of the review and submission of construction permits . 2.3. Traceability ( Provenance ) There is a major data loss problem in the construction indu stry (Branner, 2017) as 95% of data is either thrown out or not even collected . Provenance is one of the capabilities of Blockchain as it is a byproduct of its immutability, responsibility and accountability can be spotted, and also future risk can be anticipated if we can know where the error ca me from or who caused it (Xue and Lu, 2020) . In their paper, (Xue and Lu, 2020) referred to what they called “ Recent construction scandals ”, like the false results of testing “ Hong Kong -Zhuhai -Macau bridge ” or the improper construction in “ Hung H om MTR Station ”, adding that Blockc hain could’ve been the safeguard of building information provenance for forensic investigation purposes . Although provenance or traceability indicate a backward notion, the forward look is also important as most construction activities don’t just stop at t he as -built state, they continue operation until decommission of the asset or coming to the end of its life cycle (Balint Penzes, {'file_name': 'blockchain_paper.pdf', 'page_label': '6'} See discussions, st ats, and author pr ofiles f or this public ation at : https://www .researchgate.ne t/public ation/351153237 The potential of adopting Blockchain Technology with BIM Implementations in the Construction Industry Ecosystem -A Review Paper Preprint · April 2021 DOI: 10.13140/RG.2.2.33181.18407 CITATIONS 0READS 517 1 author: Ahmed Hany Heriot -Watt Univ ersity 1 PUBLICA TION 0 CITATIONS SEE PROFILE All c ontent f ollo wing this p age was uplo aded b y Ahmed Hany on 25 A ugust 2021. The user has r equest ed enhanc ement of the do wnlo aded file. {'file_name': 'blockchain_paper.pdf', 'page_label': '1'}\n",
      "Answer the following question based on the provided text and describe the metadata that it came from, if the text doesn't contain the answer just say that the provided text is insufficient to provide an answer, don't respond from your own knowledge. The text is:.\n",
      "\n",
      "Context: The potential of adopting Blockchain Technology with BIM Implementations in the Construction Industry Ecosystem –A Review Paper Ahmed H Abdelghany ah2028@hw.ac.uk Abstract: Building Information Model (BIM) has been a mainstream concept within the Construction Industry for more than a decade. Countries are creating BIM Strategies to increase the performance of the industry as well as the governance, maturity and transparency. However, the industry has been known for its very dynamic ecosystem and a large number of dispute areas that make information validity very crucial as a key stone for any transformational initiative. Blockchain, on the other hand, has been famous since int roduced in 2008 with the promise of creating new norms within the Digital Economy, and unlocking the potential of other technologies and business models in many industries, however, it still in the very early stages of implementation and maturity in the industry. This paper reviews the potential of adopting Blockchain Technology with BIM concepts in the built environment. It defines the technology and review its key value proposition from BIM perspectives. Keywords: Building Information Model, Blockcha in, BIM Maturity , Smart Contracts , IFC , Collaboration, Trust 1. Introduction BIM has been of significant benefits on many aspects of the construction industry such as collective design intentions understanding, conflicts reduction, quality improvement, faster and predictable cost management (Yang and Chou, 2019) . Many countries created implementation strategies (Smith, 2014) and UK put a mandate for BIM Level 2 adoption on public projects (Eynon, 2016) believing that adopting BIM collaborative environments and technologies is essential in cost saving, adding to that the effort of the European Union moving towards BIM Level 3 (Eynon, 2016) which ent ails full collaborative process, and one of the pillars of their long term strategy is fostering digital ecosystem and infrastructure from regulation and physical perspectives, to support collaboration and trust. However, from process perspectives, BIM implementations faces obstacles, such as , preserving BIM model historical modifications log (Kerosuo et al. , 2015) , real time collaboration and integration for co -design, interoperability difficulties resulting from the lack of standard communication specifications for BIM models sharing , and exposure to data leakage or manipulation (Nawari and Ravindran, 2019a) , tracing liabilities and responsibilities , and preserving IP rights and privacy (Turk and Kl inc, 2017) . Moreover, the information output and timelines, permissions for model modifications, and how all of this can be governed contractually to support the BIM process was of question (Mcadam, 2010) . From legal perspectives, there is a lack of legal frameworks that detail mod el information and data ownership as well as contractual aspects (Ahn, Kwak and Suk, 2016) . Responsibilities and rights clarity, also the ownership of m odel information and the protection of IPR was the most issue mentioned by researchers (Fan et al. , 2018) . On the ICT side, there was the question back then whether project’s participant should use the same BIM environment or not (Mcadam, 2010) , if not, how reliable will be the interoperability between different BIM soft ware, and the reliability of each individual ones, and how the software limitation can be put in the supply agreement. Apparently, the same question remains as (Fan et al., 2018) identified BIM and procurement systems incompatibility among the issue s mentioned in research papers. {'file_name': 'blockchain_paper.pdf', 'page_label': '2'} 1.5. Why Permissioned Blockchain Adding to the decision chart in Figure 1, a typical construction project of any size have known participants who basically have signed contracts (Nawari and Ravindran, 2019b) , in addition, Public Blockchains (Permission -less) lack the privacy as all participants have visibility to all transactions data, and also lack centralized management which places the control of the consensus to the Blockchain protocol and this is against the nature of the industry, unless the use case requires public consensus like Intellectual Property use cases. 2. BIM and Blockchain Blockchain from its definition has no update or delete in it, this natu re enabled other capabilities in the construction industry from transparency, traceability and collaboration (Balint Penzes, 2018) . This section highlight s on the Blockc hain potential with BIM from the angel of these three features along with the interoperability between BIM and Blockchain . 2.1. Interoperability On the model information level, using Industry Foundation Classes ( IFC) BIM and Blockchain can be mapped, (Xue and Lu, 2020) used IFC semantics to introduce an approach to minimize information redundan cy of BIM changes over time, mapping BIM onto Blockchain , as in Figure 3 . Figure 3:Integrating BIM and Blockchain using IFC semantic interoperability (Xue and Lu, 2020) From BIM process perspective, having the employer requirement as the center of attention is very essential, and this is why project's requirements and its information delivery milestones must be governed. In their research, (Raslan et al. , 2020) proposed a framework to use Blockchain smart contracts to match the Employer Information Requirements ( EIR) with what the suppliers and contractors needs to comply with, creating a Blockchain structure to store graphical models, non -graphical information and links to documentation, matching them all to the Asset Information Model (AIM). {'file_name': 'blockchain_paper.pdf', 'page_label': '5'} 1.2.4. Peers Peers represents organizations (Yang et al. , 2020) their roles are to e xecut e a transaction proposal, validat e transaction s. Each Peer has a copy of the smart contracts and the immutable ledger (HyperledgerDocs, 2018) . 1.3. What is BIM Among all the definitions and references for BIM, and for the purpose of this paper, stating that “With BIM, you design with objects, not lines, arcs, and shapes ” (Autodesk, 2015) could be of the best interest , the word “objects” represents everything of any size or magnitude varying from a small window or door to even a complex Jet Engine. 1.4. Why Blockchain in C onstruction and Why with BIM Bridging the gap between Blockchain and Construction industry relies on certain principles , (Greenspan, 2015) suggested eight main principles to identify whether the usage of Blockchain for certain business case is viable or not , which are the need for centralized database, presence of m ultiple writers, no trust among writers , the need to eliminate 3rd parties , functionality control, rules setting , need for v alidators, and the presence of an a sset to be tracked . (Turk and Klinc, 2017) used these principles to draw a decision chart (Figure 2 ) to confirm that building projects have the typical needs for collaboration, types of transactions and also the need for responsibility and accountability management that make the use of Blockchain ideal for the industry. BIM aims at exchanging information digitally , creating a single source for data originally created and shared by stakeholders during the construction phases (Di Giuda et al. , 2020) . Transactions in building projects and the legal effects resulting from failures are typical cases to apply Blockchain as the stakeholders are already known, i t is not guaranteed that they completely trust each other, data writers’ interest are not unified, third parties are not preferred and the functionality control is required as it is defined by the stakeholders, all transaction must be within the transacting parties and finally, c onsensus is defined bet ween stakeholders (Turk and Klinc, 2017) . Figure 2, A decision t ree to determine the type of Blockchain to use. (Turk and Klinc, 2017) {'file_name': 'blockchain_paper.pdf', 'page_label': '4'} Figure 4: Optimizing Asset & Facilities Management team exp erience (Raslan et al. , 2020) There is an interesting correlation between Blockchain and AIM and BIM which gives a potential for each technology to fill each other’s gap (Raslan et al. , 2020) . BIM also can encapsulate Blockchain verified supply chain information, material tracking records or payment information (Balint Penzes, 2018) , it can also give back model changes information and approvals. Also making use of Blockchain smart contracts, payments can be initiated based on other Blockchain triggers like inspection completion for specific activities (Moreira, Mota and Machado, 2021) . 2.2. Transparency With its immutable record keeping capability, all records are written according to a predefined and agreed upon consensus mechanism between participants, (Nawari and Ravindran, 2019b) stated that DLT’s transparency along with BIM properties can present an 'proof of trust', which would make another incentive for th e AEC business. As an example for transparency, In their research, (Nawari and Ravindran, 2019b) introduced a Blockchain+BIM framework for compliance and code -check automation of the review and submission of construction permits . 2.3. Traceability ( Provenance ) There is a major data loss problem in the construction indu stry (Branner, 2017) as 95% of data is either thrown out or not even collected . Provenance is one of the capabilities of Blockchain as it is a byproduct of its immutability, responsibility and accountability can be spotted, and also future risk can be anticipated if we can know where the error ca me from or who caused it (Xue and Lu, 2020) . In their paper, (Xue and Lu, 2020) referred to what they called “ Recent construction scandals ”, like the false results of testing “ Hong Kong -Zhuhai -Macau bridge ” or the improper construction in “ Hung H om MTR Station ”, adding that Blockc hain could’ve been the safeguard of building information provenance for forensic investigation purposes . Although provenance or traceability indicate a backward notion, the forward look is also important as most construction activities don’t just stop at t he as -built state, they continue operation until decommission of the asset or coming to the end of its life cycle (Balint Penzes, {'file_name': 'blockchain_paper.pdf', 'page_label': '6'} See discussions, st ats, and author pr ofiles f or this public ation at : https://www .researchgate.ne t/public ation/351153237 The potential of adopting Blockchain Technology with BIM Implementations in the Construction Industry Ecosystem -A Review Paper Preprint · April 2021 DOI: 10.13140/RG.2.2.33181.18407 CITATIONS 0READS 517 1 author: Ahmed Hany Heriot -Watt Univ ersity 1 PUBLICA TION 0 CITATIONS SEE PROFILE All c ontent f ollo wing this p age was uplo aded b y Ahmed Hany on 25 A ugust 2021. The user has r equest ed enhanc ement of the do wnlo aded file. {'file_name': 'blockchain_paper.pdf', 'page_label': '1'}\n",
      "\n",
      "Question: what is the potential of using blockchain with BIM?\n",
      "LLM Answer: The provided text outlines several potential benefits of integrating blockchain technology with Building Information Modeling (BIM) in the construction industry. These benefits include:\n",
      "\n",
      "1. **Transparency**: Blockchain’s immutable record-keeping can ensure all records are transparent and written according to a predefined and agreed-upon consensus mechanism. This can present a 'proof of trust' in the AEC business.\n",
      "\n",
      "2. **Traceability**: Blockchain can address data loss issues in the construction industry by providing provenance of data. This allows for responsibility and accountability to be clearly identified and can help in forensic investigations of construction errors or scandals.\n",
      "\n",
      "3. **Interoperability**: Blockchain can be mapped with BIM using Industry Foundation Classes (IFC). This approach can minimize redundancy of BIM changes over time and enhance interoperability between the two technologies.\n",
      "\n",
      "4. **Collaboration and Trust**: Blockchain’s transparency, traceability, and capabilities can enhance collaboration among project stakeholders and build trust within the construction ecosystem.\n",
      "\n",
      "5. **Governance of Information Requirements**: Blockchain smart contracts can be used to match Employer Information Requirements (EIR) with what suppliers and contractors need to comply with, ensuring that project's requirements and information delivery milestones are governed effectively.\n",
      "\n",
      "6. **Model Information Encapsulation**: BIM can encapsulate blockchain-verified supply chain information, material tracking records, or payment information, providing a comprehensive and secure approach to managing construction data.\n",
      "\n",
      "7. **Automation and Validation**: Blockchain can automate and validate compliance and code checks for the review and submission of construction permits.\n",
      "\n",
      "These points summarize the significant potential that blockchain technology holds for enhancing BIM implementations within the construction industry.\n",
      "\n",
      "**Metadata Description**:\n",
      "- **File Name**: blockchain_paper.pdf\n",
      "- **Page Labels**: 1, 2, 4, 5, 6\n",
      "- **Author**: Ahmed H. Abdelghany\n",
      "- **Publication Date**: Preprint in April 2021\n",
      "- **Source**: ResearchGate\n",
      "- **DOI**: 10.13140/RG.2.2.33181.18407\n",
      "Generated answer: The provided text outlines several potential benefits of integrating blockchain technology with Building Information Modeling (BIM) in the construction industry. These benefits include:\n",
      "\n",
      "1. **Transparency**: Blockchain’s immutable record-keeping can ensure all records are transparent and written according to a predefined and agreed-upon consensus mechanism. This can present a 'proof of trust' in the AEC business.\n",
      "\n",
      "2. **Traceability**: Blockchain can address data loss issues in the construction industry by providing provenance of data. This allows for responsibility and accountability to be clearly identified and can help in forensic investigations of construction errors or scandals.\n",
      "\n",
      "3. **Interoperability**: Blockchain can be mapped with BIM using Industry Foundation Classes (IFC). This approach can minimize redundancy of BIM changes over time and enhance interoperability between the two technologies.\n",
      "\n",
      "4. **Collaboration and Trust**: Blockchain’s transparency, traceability, and capabilities can enhance collaboration among project stakeholders and build trust within the construction ecosystem.\n",
      "\n",
      "5. **Governance of Information Requirements**: Blockchain smart contracts can be used to match Employer Information Requirements (EIR) with what suppliers and contractors need to comply with, ensuring that project's requirements and information delivery milestones are governed effectively.\n",
      "\n",
      "6. **Model Information Encapsulation**: BIM can encapsulate blockchain-verified supply chain information, material tracking records, or payment information, providing a comprehensive and secure approach to managing construction data.\n",
      "\n",
      "7. **Automation and Validation**: Blockchain can automate and validate compliance and code checks for the review and submission of construction permits.\n",
      "\n",
      "These points summarize the significant potential that blockchain technology holds for enhancing BIM implementations within the construction industry.\n",
      "\n",
      "**Metadata Description**:\n",
      "- **File Name**: blockchain_paper.pdf\n",
      "- **Page Labels**: 1, 2, 4, 5, 6\n",
      "- **Author**: Ahmed H. Abdelghany\n",
      "- **Publication Date**: Preprint in April 2021\n",
      "- **Source**: ResearchGate\n",
      "- **DOI**: 10.13140/RG.2.2.33181.18407\n",
      "user: what is the potential of using blockchain with BIM?\n",
      "assistant: The provided text outlines several potential benefits of integrating blockchain technology with Building Information Modeling (BIM) in the construction industry. These benefits include:\n",
      "\n",
      "1. **Transparency**: Blockchain’s immutable record-keeping can ensure all records are transparent and written according to a predefined and agreed-upon consensus mechanism. This can present a 'proof of trust' in the AEC business.\n",
      "\n",
      "2. **Traceability**: Blockchain can address data loss issues in the construction industry by providing provenance of data. This allows for responsibility and accountability to be clearly identified and can help in forensic investigations of construction errors or scandals.\n",
      "\n",
      "3. **Interoperability**: Blockchain can be mapped with BIM using Industry Foundation Classes (IFC). This approach can minimize redundancy of BIM changes over time and enhance interoperability between the two technologies.\n",
      "\n",
      "4. **Collaboration and Trust**: Blockchain’s transparency, traceability, and capabilities can enhance collaboration among project stakeholders and build trust within the construction ecosystem.\n",
      "\n",
      "5. **Governance of Information Requirements**: Blockchain smart contracts can be used to match Employer Information Requirements (EIR) with what suppliers and contractors need to comply with, ensuring that project's requirements and information delivery milestones are governed effectively.\n",
      "\n",
      "6. **Model Information Encapsulation**: BIM can encapsulate blockchain-verified supply chain information, material tracking records, or payment information, providing a comprehensive and secure approach to managing construction data.\n",
      "\n",
      "7. **Automation and Validation**: Blockchain can automate and validate compliance and code checks for the review and submission of construction permits.\n",
      "\n",
      "These points summarize the significant potential that blockchain technology holds for enhancing BIM implementations within the construction industry.\n",
      "\n",
      "**Metadata Description**:\n",
      "- **File Name**: blockchain_paper.pdf\n",
      "- **Page Labels**: 1, 2, 4, 5, 6\n",
      "- **Author**: Ahmed H. Abdelghany\n",
      "- **Publication Date**: Preprint in April 2021\n",
      "- **Source**: ResearchGate\n",
      "- **DOI**: 10.13140/RG.2.2.33181.18407\n"
     ]
    }
   ],
   "execution_count": 21
  },
  {
   "cell_type": "code",
   "execution_count": null,
   "id": "a4b98e252cec8716",
   "metadata": {},
   "outputs": [],
   "source": []
  }
 ],
 "metadata": {
  "kernelspec": {
   "display_name": "Python 3 (ipykernel)",
   "language": "python",
   "name": "python3"
  },
  "language_info": {
   "codemirror_mode": {
    "name": "ipython",
    "version": 3
   },
   "file_extension": ".py",
   "mimetype": "text/x-python",
   "name": "python",
   "nbconvert_exporter": "python",
   "pygments_lexer": "ipython3",
   "version": "3.10.14"
  }
 },
 "nbformat": 4,
 "nbformat_minor": 5
}
